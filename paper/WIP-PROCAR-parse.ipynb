{
 "cells": [
  {
   "cell_type": "code",
   "execution_count": 20,
   "metadata": {},
   "outputs": [],
   "source": [
    "# GaAs_PBESOC = './data/GaAs/PBEsol_SoC/PROCAR'\n",
    "BBTO_SOC_11 = './data-fang/BiBaTi2O6/SOC/LORBIT11/PROCAR'\n",
    "# BBTO_SOC_10 = './data-fang/BiBaTi2O6/SOC/LORBIT10/PROCAR'\n",
    "\n",
    "import re\n",
    "def test(fname):\n",
    "    pattern = r\"band\\s*(\\d+)\\s*#\\s*energy\\s*[-.\\d\\s]+\\s*#\\s\"r\"*occ.\\s*([.\\d\\s]+)\"\n",
    "    # pattern = r\"band\\s*(\\d+)\\s*#\\s*energy\\s*[-.\\d\\s]+\\s*#\\s+occ\\.\\s*([\\.\\d\\s]+)\"\n",
    "    # pattern = r\"band\\s*(\\d+)\\s*#\\s*energy\\s*[-.\\d\\s]+\\s*#\\s\"r\"*occ.\\s*([-.\\d\\s]+)\"\n",
    "    with open(fname, 'r') as f:\n",
    "        contents = f.read()\n",
    "        occ = re.findall(pattern, contents)\n",
    "    return(occ)\n",
    "#     print(occ)"
   ]
  },
  {
   "cell_type": "code",
   "execution_count": 21,
   "metadata": {},
   "outputs": [],
   "source": [
    "occ = test(BBTO_SOC_11)"
   ]
  },
  {
   "cell_type": "code",
   "execution_count": 22,
   "metadata": {},
   "outputs": [
    {
     "data": {
      "text/plain": [
       "[('81', '1.00000000\\n \\n'),\n",
       " ('82', '1.00000000\\n \\n'),\n",
       " ('83', '1.00000000\\n \\n'),\n",
       " ('84', '1.00000000\\n \\n'),\n",
       " ('85', '1.02583045\\n \\n'),\n",
       " ('86', '1.02578427\\n \\n'),\n",
       " ('87', '0.66657051\\n \\n'),\n",
       " ('88', '0.66632847\\n \\n'),\n",
       " ('89', '0.29228476\\n \\n'),\n",
       " ('90', '0.29203861\\n \\n'),\n",
       " ('91', ' '),\n",
       " ('92', ' '),\n",
       " ('93', ' '),\n",
       " ('94', ' '),\n",
       " ('95', ' '),\n",
       " ('96', ' '),\n",
       " ('97', ' '),\n",
       " ('98', ' '),\n",
       " ('99', ' '),\n",
       " ('100', ' ')]"
      ]
     },
     "execution_count": 22,
     "metadata": {},
     "output_type": "execute_result"
    }
   ],
   "source": [
    "occ[80:100]  # you can find empty data below which corresponds to the negative occupancies"
   ]
  },
  {
   "cell_type": "markdown",
   "metadata": {},
   "source": [
    "# Using the pattern in current vasppy"
   ]
  },
  {
   "cell_type": "code",
   "execution_count": 5,
   "metadata": {},
   "outputs": [],
   "source": [
    "BBTO_SOC_11 = './data-fang/BiBaTi2O6/SOC/LORBIT11/PROCAR'\n",
    "\n",
    "import re\n",
    "def test(fname):\n",
    "    pattern = r\"band\\s*(\\d+)\\s*#\\s*energy\\s*[-.\\d\\s]+\\s*#\\s\"r\"*occ.\\s*([.\\d\\s]+)\"\n",
    "    # pattern = r\"band\\s*(\\d+)\\s*#\\s*energy\\s*[-.\\d\\s]+\\s*#\\s\"r\"*occ.\\s*([-.\\d\\s]+)\"\n",
    "    with open(fname, 'r') as f:\n",
    "        contents = f.read()\n",
    "        occ = re.findall(pattern, contents)\n",
    "    return(occ)"
   ]
  },
  {
   "cell_type": "code",
   "execution_count": 23,
   "metadata": {},
   "outputs": [
    {
     "data": {
      "text/plain": [
       "[('81', '1.00000000\\n \\n'),\n",
       " ('82', '1.00000000\\n \\n'),\n",
       " ('83', '1.00000000\\n \\n'),\n",
       " ('84', '1.00000000\\n \\n'),\n",
       " ('85', '1.02583045\\n \\n'),\n",
       " ('86', '1.02578427\\n \\n'),\n",
       " ('87', '0.66657051\\n \\n'),\n",
       " ('88', '0.66632847\\n \\n'),\n",
       " ('89', '0.29228476\\n \\n'),\n",
       " ('90', '0.29203861\\n \\n'),\n",
       " ('91', ' '),\n",
       " ('92', ' '),\n",
       " ('93', ' '),\n",
       " ('94', ' '),\n",
       " ('95', ' '),\n",
       " ('96', ' '),\n",
       " ('97', ' '),\n",
       " ('98', ' '),\n",
       " ('99', ' '),\n",
       " ('100', ' ')]"
      ]
     },
     "execution_count": 23,
     "metadata": {},
     "output_type": "execute_result"
    }
   ],
   "source": [
    "occ = test(BBTO_SOC_11)\n",
    "occ[80:100]  # you can find empty data below which corresponds to the negative occupancies"
   ]
  },
  {
   "cell_type": "markdown",
   "metadata": {},
   "source": [
    "# Using the revised pattern"
   ]
  },
  {
   "cell_type": "code",
   "execution_count": 24,
   "metadata": {},
   "outputs": [],
   "source": [
    "BBTO_SOC_11 = './data-fang/BiBaTi2O6/SOC/LORBIT11/PROCAR'\n",
    "\n",
    "import re\n",
    "def test(fname):\n",
    "#     pattern = r\"band\\s*(\\d+)\\s*#\\s*energy\\s*[-.\\d\\s]+\\s*#\\s\"r\"*occ.\\s*([.\\d\\s]+)\"\n",
    "    pattern = r\"band\\s*(\\d+)\\s*#\\s*energy\\s*[-.\\d\\s]+\\s*#\\s\"r\"*occ.\\s*([-.\\d\\s]+)\"\n",
    "    with open(fname, 'r') as f:\n",
    "        contents = f.read()\n",
    "        occ = re.findall(pattern, contents)\n",
    "    return(occ)"
   ]
  },
  {
   "cell_type": "code",
   "execution_count": 25,
   "metadata": {},
   "outputs": [
    {
     "data": {
      "text/plain": [
       "[('81', '1.00000000\\n \\n'),\n",
       " ('82', '1.00000000\\n \\n'),\n",
       " ('83', '1.00000000\\n \\n'),\n",
       " ('84', '1.00000000\\n \\n'),\n",
       " ('85', '1.02583045\\n \\n'),\n",
       " ('86', '1.02578427\\n \\n'),\n",
       " ('87', '0.66657051\\n \\n'),\n",
       " ('88', '0.66632847\\n \\n'),\n",
       " ('89', '0.29228476\\n \\n'),\n",
       " ('90', '0.29203861\\n \\n'),\n",
       " ('91', '-0.03191968\\n \\n'),\n",
       " ('92', '-0.03193819\\n \\n'),\n",
       " ('93', '-0.00000000\\n \\n'),\n",
       " ('94', '-0.00000000\\n \\n'),\n",
       " ('95', '-0.00000000\\n \\n'),\n",
       " ('96', '-0.00000000\\n \\n'),\n",
       " ('97', '-0.00000000\\n \\n'),\n",
       " ('98', '-0.00000000\\n \\n'),\n",
       " ('99', '-0.00000000\\n \\n'),\n",
       " ('100', '-0.00000000\\n \\n')]"
      ]
     },
     "execution_count": 25,
     "metadata": {},
     "output_type": "execute_result"
    }
   ],
   "source": [
    "occ = test(BBTO_SOC_11)\n",
    "occ[80:100] # you can find the negative occupancies can be parsed properly"
   ]
  },
  {
   "cell_type": "code",
   "execution_count": 26,
   "metadata": {},
   "outputs": [],
   "source": [
    "!cp ./data-fang/BiBaTi2O6/SOC/LORBIT11/PROCAR /Users/ywfang/FANG/git/vasppy/tests/test_data/PROCAR_FANG"
   ]
  },
  {
   "cell_type": "code",
   "execution_count": 9,
   "metadata": {},
   "outputs": [
    {
     "name": "stdout",
     "output_type": "stream",
     "text": [
      "[('91', '-0.03402900')]\n"
     ]
    }
   ],
   "source": [
    "pattern = r\"band\\s*(\\d+)\\s*#\\s*energy\\s*[-.\\d\\s]+\\s*#\\s\"r\"*occ.\\s*([-.\\d\\s]+)\"\n",
    "string=\"band    91 # energy    7.72001042 # occ. -0.03402900\"\n",
    "xx = re.findall(pattern, string)\n",
    "print(xx)"
   ]
  },
  {
   "cell_type": "markdown",
   "metadata": {},
   "source": [
    "# Why I changed the pattern?\n",
    "\n",
    "I found that, in VASP calculations, occ. may be negative sometimes.\n",
    "To parse PROCAR properly, we should use the following patter:\n",
    "\n",
    "pattern = r\"band\\s*(\\d+)\\s*#\\s*energy\\s*[-.\\d\\s]+\\s*#\\s\"r\"*occ.\\s*([-.\\d\\s]+)\"\n",
    "\n",
    "if the second minus '-' was removed, the negative occ. will become empty, and they cannot be converted to floating numbers."
   ]
  },
  {
   "cell_type": "markdown",
   "metadata": {},
   "source": [
    "The discussion with Shinohara-san let me know:"
   ]
  },
  {
   "cell_type": "code",
   "execution_count": null,
   "metadata": {},
   "outputs": [],
   "source": [
    "import pdb\n",
    "pdb.set_trace()"
   ]
  },
  {
   "cell_type": "markdown",
   "metadata": {},
   "source": [
    "can be used for debugging"
   ]
  },
  {
   "cell_type": "markdown",
   "metadata": {},
   "source": [
    "For example:"
   ]
  },
  {
   "cell_type": "code",
   "execution_count": null,
   "metadata": {},
   "outputs": [],
   "source": [
    "def parse_occupancy(self):\n",
    "    occupancy = re.findall(r\"band\\s*(\\d+)\\s*#\\s*energy\\s*[-.\\d\\s]+\\s*#\\s\"r\"*occ.\\s*([.\\d\\s]+)\", self.read_in)\n",
    "    import pdb\n",
    "    pdb.set_trace()"
   ]
  },
  {
   "cell_type": "markdown",
   "metadata": {},
   "source": [
    "Then run the vasppy code, and in the debug menu, you can input \"print(occupancy)\"..."
   ]
  },
  {
   "cell_type": "code",
   "execution_count": null,
   "metadata": {},
   "outputs": [],
   "source": []
  },
  {
   "cell_type": "code",
   "execution_count": null,
   "metadata": {},
   "outputs": [],
   "source": []
  },
  {
   "cell_type": "code",
   "execution_count": null,
   "metadata": {},
   "outputs": [],
   "source": []
  }
 ],
 "metadata": {
  "kernelspec": {
   "display_name": "Python 3",
   "language": "python",
   "name": "python3"
  },
  "language_info": {
   "codemirror_mode": {
    "name": "ipython",
    "version": 3
   },
   "file_extension": ".py",
   "mimetype": "text/x-python",
   "name": "python",
   "nbconvert_exporter": "python",
   "pygments_lexer": "ipython3",
   "version": "3.6.6"
  }
 },
 "nbformat": 4,
 "nbformat_minor": 2
}
